{
 "cells": [
  {
   "cell_type": "markdown",
   "metadata": {
    "colab_type": "text",
    "id": "9XIMscuZXR3_"
   },
   "source": [
    "<div>\n",
    "<img src=https://www.institutedata.com/wp-content/uploads/2019/10/iod_h_tp_primary_c.svg width=\"300\">\n",
    "</div>"
   ]
  },
  {
   "cell_type": "markdown",
   "metadata": {
    "colab_type": "text",
    "id": "_MEq0z1KXR4C"
   },
   "source": [
    "## Lab 4.2.2: Feature Selection"
   ]
  },
  {
   "cell_type": "code",
   "execution_count": 1,
   "metadata": {
    "colab": {},
    "colab_type": "code",
    "id": "Od_2rcZkXR4D"
   },
   "outputs": [],
   "source": [
    "import pandas as pd\n",
    "import numpy as np\n",
    "import matplotlib.pyplot as plt\n",
    "import seaborn as sns\n",
    "\n",
    "%matplotlib inline"
   ]
  },
  {
   "cell_type": "markdown",
   "metadata": {
    "colab_type": "text",
    "id": "mADumyI3XR4G"
   },
   "source": [
    "### 1. Forward Feature Selection\n",
    "\n",
    "> Forward Selection: Forward selection is an iterative method in which we start with having no feature in the model. In each iteration, we keep adding the feature which best improves our model till an addition of a new variable does not improve the performance of the model.\n",
    "\n",
    "Create a Regression model using Forward Feature Selection by looping over all the features adding one at a time until there are no improvements on the prediction metric ( R2  and  AdjustedR2  in this case)."
   ]
  },
  {
   "cell_type": "markdown",
   "metadata": {
    "colab_type": "text",
    "id": "Ha-2bFwdXR4H"
   },
   "source": [
    "#### 1.1 Load Wine Data & Define Predictor and Target"
   ]
  },
  {
   "cell_type": "code",
   "execution_count": 2,
   "metadata": {
    "colab": {},
    "colab_type": "code",
    "id": "dKp1loQLXR4H"
   },
   "outputs": [],
   "source": [
    "## Load the wine quality dataset\n",
    "\n",
    "# Load the wine dataset from csv\n",
    "wine = pd.read_csv('winequality_merged.csv')\n",
    "\n",
    "# define the target variable (dependent variable) as y\n",
    "y = wine['quality']\n",
    "\n",
    "# Take all columns except target as predictor columns\n",
    "predictor_columns = [c for c in wine.columns if c != 'quality']\n",
    "# Load the dataset as a pandas data frame\n",
    "X = pd.DataFrame(wine, columns = predictor_columns)"
   ]
  },
  {
   "cell_type": "code",
   "execution_count": 3,
   "metadata": {},
   "outputs": [],
   "source": [
    "from sklearn.linear_model import LinearRegression\n",
    "from sklearn.model_selection import train_test_split"
   ]
  },
  {
   "cell_type": "code",
   "execution_count": 4,
   "metadata": {
    "colab": {},
    "colab_type": "code",
    "id": "_IaxFgFkXR4K"
   },
   "outputs": [],
   "source": [
    "## Create training and testing subsets\n",
    "\n",
    "X_train, X_test, y_train, y_test = train_test_split(X, y, test_size = 0.2)"
   ]
  },
  {
   "cell_type": "markdown",
   "metadata": {
    "colab_type": "text",
    "id": "sHGOCW66XR4M"
   },
   "source": [
    "#### 1.2 Overview of the code below\n",
    "\n",
    "The external `while` loop goes forever until there are no improvements to the model, which is controlled by the flag `changed` (until is **not** changed).\n",
    "The inner `for` loop goes over each of the features not yet included in the model and calculates the correlation coefficient. If any model improves on the previous best model then the records are updated.\n",
    "\n",
    "#### Code variables\n",
    "- `included`: list of the features (predictors) that were included in the model; starts empty.\n",
    "- `excluded`: list of features that have **not** been included in the model; starts as the full list of features.\n",
    "- `best`: dictionary to keep record of the best model found at any stage; starts 'empty'.\n",
    "- `model`: object of class LinearRegression, with default values for all parameters.\n",
    "\n",
    "#### Methods of the `LinearRegression` object to investigate\n",
    "- `fit()`\n",
    "- `fit.score()`\n",
    "\n",
    "#### Adjusted $R^2$ formula\n",
    "$$Adjusted \\; R^2 = 1 - { (1 - R^2) (n - 1)  \\over n - k - 1 }$$\n",
    "\n",
    "#### Linear Regression [reference](http://scikit-learn.org/stable/modules/generated/sklearn.linear_model.LinearRegression.html#sklearn.linear_model.LinearRegression)"
   ]
  },
  {
   "cell_type": "code",
   "execution_count": 5,
   "metadata": {
    "colab": {},
    "colab_type": "code",
    "id": "LVJY9yXaXR4M"
   },
   "outputs": [],
   "source": [
    "## Flag intermediate output\n",
    "\n",
    "show_steps = True   # for testing/debugging\n",
    "# show_steps = False  # without showing steps"
   ]
  },
  {
   "cell_type": "code",
   "execution_count": 6,
   "metadata": {
    "colab": {},
    "colab_type": "code",
    "id": "vxROsvaIXR4P"
   },
   "outputs": [
    {
     "name": "stdout",
     "output_type": "stream",
     "text": [
      "\n",
      "(Step) Excluded = residual sugar, sulphates, chlorides, pH, density, fixed acidity, alcohol, red_wine, total sulfur dioxide, volatile acidity, citric acid, free sulfur dioxide\n",
      "(Step) Trying residual sugar...\n",
      "(Step) - Features = residual sugar\n",
      "(Step) - Adjusted R^2: This = 0.000; Best = 0.000\n",
      "(Step) - New Best!   : Feature = residual sugar; R^2 = 0.001; Adjusted R^2 = 0.000\n",
      "(Step) Trying sulphates...\n",
      "(Step) - Features = sulphates\n",
      "(Step) - Adjusted R^2: This = 0.001; Best = 0.000\n",
      "(Step) - New Best!   : Feature = sulphates; R^2 = 0.001; Adjusted R^2 = 0.001\n",
      "(Step) Trying chlorides...\n",
      "(Step) - Features = chlorides\n",
      "(Step) - Adjusted R^2: This = 0.039; Best = 0.001\n",
      "(Step) - New Best!   : Feature = chlorides; R^2 = 0.039; Adjusted R^2 = 0.039\n",
      "(Step) Trying pH...\n",
      "(Step) - Features = pH\n",
      "(Step) - Adjusted R^2: This = -0.001; Best = 0.039\n",
      "(Step) Trying density...\n",
      "(Step) - Features = density\n",
      "(Step) - Adjusted R^2: This = 0.095; Best = 0.039\n",
      "(Step) - New Best!   : Feature = density; R^2 = 0.096; Adjusted R^2 = 0.095\n",
      "(Step) Trying fixed acidity...\n",
      "(Step) - Features = fixed acidity\n",
      "(Step) - Adjusted R^2: This = 0.005; Best = 0.095\n",
      "(Step) Trying alcohol...\n",
      "(Step) - Features = alcohol\n",
      "(Step) - Adjusted R^2: This = 0.199; Best = 0.095\n",
      "(Step) - New Best!   : Feature = alcohol; R^2 = 0.200; Adjusted R^2 = 0.199\n",
      "(Step) Trying red_wine...\n",
      "(Step) - Features = red_wine\n",
      "(Step) - Adjusted R^2: This = 0.015; Best = 0.199\n",
      "(Step) Trying total sulfur dioxide...\n",
      "(Step) - Features = total sulfur dioxide\n",
      "(Step) - Adjusted R^2: This = 0.001; Best = 0.199\n",
      "(Step) Trying volatile acidity...\n",
      "(Step) - Features = volatile acidity\n",
      "(Step) - Adjusted R^2: This = 0.075; Best = 0.199\n",
      "(Step) Trying citric acid...\n",
      "(Step) - Features = citric acid\n",
      "(Step) - Adjusted R^2: This = 0.009; Best = 0.199\n",
      "(Step) Trying free sulfur dioxide...\n",
      "(Step) - Features = free sulfur dioxide\n",
      "(Step) - Adjusted R^2: This = 0.003; Best = 0.199\n",
      "Added feature alcohol with R^2 = 0.200 and adjusted R^2 = 0.199\n",
      "\n",
      "(Step) Excluded = residual sugar, sulphates, chlorides, pH, density, fixed acidity, red_wine, total sulfur dioxide, volatile acidity, citric acid, free sulfur dioxide\n",
      "(Step) Trying residual sugar...\n",
      "(Step) - Features = alcohol, residual sugar\n",
      "(Step) - Adjusted R^2: This = 0.217; Best = 0.199\n",
      "(Step) - New Best!   : Feature = residual sugar; R^2 = 0.218; Adjusted R^2 = 0.217\n",
      "(Step) Trying sulphates...\n",
      "(Step) - Features = alcohol, sulphates\n",
      "(Step) - Adjusted R^2: This = 0.200; Best = 0.217\n",
      "(Step) Trying chlorides...\n",
      "(Step) - Features = alcohol, chlorides\n",
      "(Step) - Adjusted R^2: This = 0.205; Best = 0.217\n",
      "(Step) Trying pH...\n",
      "(Step) - Features = alcohol, pH\n",
      "(Step) - Adjusted R^2: This = 0.201; Best = 0.217\n",
      "(Step) Trying density...\n",
      "(Step) - Features = alcohol, density\n",
      "(Step) - Adjusted R^2: This = 0.199; Best = 0.217\n",
      "(Step) Trying fixed acidity...\n",
      "(Step) - Features = alcohol, fixed acidity\n",
      "(Step) - Adjusted R^2: This = 0.199; Best = 0.217\n",
      "(Step) Trying red_wine...\n",
      "(Step) - Features = alcohol, red_wine\n",
      "(Step) - Adjusted R^2: This = 0.211; Best = 0.217\n",
      "(Step) Trying total sulfur dioxide...\n",
      "(Step) - Features = alcohol, total sulfur dioxide\n",
      "(Step) - Adjusted R^2: This = 0.205; Best = 0.217\n",
      "(Step) Trying volatile acidity...\n",
      "(Step) - Features = alcohol, volatile acidity\n",
      "(Step) - Adjusted R^2: This = 0.265; Best = 0.217\n",
      "(Step) - New Best!   : Feature = volatile acidity; R^2 = 0.266; Adjusted R^2 = 0.265\n",
      "(Step) Trying citric acid...\n",
      "(Step) - Features = alcohol, citric acid\n",
      "(Step) - Adjusted R^2: This = 0.210; Best = 0.265\n",
      "(Step) Trying free sulfur dioxide...\n",
      "(Step) - Features = alcohol, free sulfur dioxide\n",
      "(Step) - Adjusted R^2: This = 0.217; Best = 0.265\n",
      "Added feature volatile acidity with R^2 = 0.266 and adjusted R^2 = 0.265\n",
      "\n",
      "(Step) Excluded = residual sugar, sulphates, chlorides, pH, density, fixed acidity, red_wine, total sulfur dioxide, citric acid, free sulfur dioxide\n",
      "(Step) Trying residual sugar...\n",
      "(Step) - Features = alcohol, volatile acidity, residual sugar\n",
      "(Step) - Adjusted R^2: This = 0.270; Best = 0.265\n",
      "(Step) - New Best!   : Feature = residual sugar; R^2 = 0.272; Adjusted R^2 = 0.270\n",
      "(Step) Trying sulphates...\n",
      "(Step) - Features = alcohol, volatile acidity, sulphates\n",
      "(Step) - Adjusted R^2: This = 0.275; Best = 0.270\n",
      "(Step) - New Best!   : Feature = sulphates; R^2 = 0.277; Adjusted R^2 = 0.275\n",
      "(Step) Trying chlorides...\n",
      "(Step) - Features = alcohol, volatile acidity, chlorides\n",
      "(Step) - Adjusted R^2: This = 0.265; Best = 0.275\n",
      "(Step) Trying pH...\n",
      "(Step) - Features = alcohol, volatile acidity, pH\n",
      "(Step) - Adjusted R^2: This = 0.265; Best = 0.275\n",
      "(Step) Trying density...\n",
      "(Step) - Features = alcohol, volatile acidity, density\n",
      "(Step) - Adjusted R^2: This = 0.272; Best = 0.275\n",
      "(Step) Trying fixed acidity...\n",
      "(Step) - Features = alcohol, volatile acidity, fixed acidity\n",
      "(Step) - Adjusted R^2: This = 0.265; Best = 0.275\n",
      "(Step) Trying red_wine...\n",
      "(Step) - Features = alcohol, volatile acidity, red_wine\n",
      "(Step) - Adjusted R^2: This = 0.270; Best = 0.275\n",
      "(Step) Trying total sulfur dioxide...\n",
      "(Step) - Features = alcohol, volatile acidity, total sulfur dioxide\n",
      "(Step) - Adjusted R^2: This = 0.266; Best = 0.275\n",
      "(Step) Trying citric acid...\n",
      "(Step) - Features = alcohol, volatile acidity, citric acid\n",
      "(Step) - Adjusted R^2: This = 0.264; Best = 0.275\n",
      "(Step) Trying free sulfur dioxide...\n",
      "(Step) - Features = alcohol, volatile acidity, free sulfur dioxide\n",
      "(Step) - Adjusted R^2: This = 0.266; Best = 0.275\n",
      "Added feature sulphates with R^2 = 0.277 and adjusted R^2 = 0.275\n",
      "\n",
      "(Step) Excluded = residual sugar, free sulfur dioxide, chlorides, pH, fixed acidity, total sulfur dioxide, red_wine, citric acid, density\n",
      "(Step) Trying residual sugar...\n",
      "(Step) - Features = alcohol, volatile acidity, sulphates, residual sugar\n",
      "(Step) - Adjusted R^2: This = 0.284; Best = 0.275\n",
      "(Step) - New Best!   : Feature = residual sugar; R^2 = 0.286; Adjusted R^2 = 0.284\n",
      "(Step) Trying free sulfur dioxide...\n",
      "(Step) - Features = alcohol, volatile acidity, sulphates, free sulfur dioxide\n",
      "(Step) - Adjusted R^2: This = 0.278; Best = 0.284\n",
      "(Step) Trying chlorides...\n",
      "(Step) - Features = alcohol, volatile acidity, sulphates, chlorides\n",
      "(Step) - Adjusted R^2: This = 0.275; Best = 0.284\n",
      "(Step) Trying pH...\n",
      "(Step) - Features = alcohol, volatile acidity, sulphates, pH\n",
      "(Step) - Adjusted R^2: This = 0.275; Best = 0.284\n",
      "(Step) Trying fixed acidity...\n",
      "(Step) - Features = alcohol, volatile acidity, sulphates, fixed acidity\n",
      "(Step) - Adjusted R^2: This = 0.274; Best = 0.284\n",
      "(Step) Trying total sulfur dioxide...\n",
      "(Step) - Features = alcohol, volatile acidity, sulphates, total sulfur dioxide\n",
      "(Step) - Adjusted R^2: This = 0.275; Best = 0.284\n",
      "(Step) Trying red_wine...\n",
      "(Step) - Features = alcohol, volatile acidity, sulphates, red_wine\n",
      "(Step) - Adjusted R^2: This = 0.276; Best = 0.284\n",
      "(Step) Trying citric acid...\n",
      "(Step) - Features = alcohol, volatile acidity, sulphates, citric acid\n",
      "(Step) - Adjusted R^2: This = 0.275; Best = 0.284\n",
      "(Step) Trying density...\n",
      "(Step) - Features = alcohol, volatile acidity, sulphates, density\n",
      "(Step) - Adjusted R^2: This = 0.278; Best = 0.284\n",
      "Added feature residual sugar with R^2 = 0.286 and adjusted R^2 = 0.284\n",
      "\n",
      "(Step) Excluded = free sulfur dioxide, chlorides, pH, fixed acidity, total sulfur dioxide, red_wine, citric acid, density\n",
      "(Step) Trying free sulfur dioxide...\n",
      "(Step) - Features = alcohol, volatile acidity, sulphates, residual sugar, free sulfur dioxide\n",
      "(Step) - Adjusted R^2: This = 0.284; Best = 0.284\n",
      "(Step) - New Best!   : Feature = free sulfur dioxide; R^2 = 0.287; Adjusted R^2 = 0.284\n",
      "(Step) Trying chlorides...\n",
      "(Step) - Features = alcohol, volatile acidity, sulphates, residual sugar, chlorides\n",
      "(Step) - Adjusted R^2: This = 0.283; Best = 0.284\n",
      "(Step) Trying pH...\n",
      "(Step) - Features = alcohol, volatile acidity, sulphates, residual sugar, pH\n",
      "(Step) - Adjusted R^2: This = 0.284; Best = 0.284\n",
      "(Step) Trying fixed acidity...\n",
      "(Step) - Features = alcohol, volatile acidity, sulphates, residual sugar, fixed acidity\n",
      "(Step) - Adjusted R^2: This = 0.283; Best = 0.284\n",
      "(Step) Trying total sulfur dioxide...\n",
      "(Step) - Features = alcohol, volatile acidity, sulphates, residual sugar, total sulfur dioxide\n",
      "(Step) - Adjusted R^2: This = 0.286; Best = 0.284\n",
      "(Step) - New Best!   : Feature = total sulfur dioxide; R^2 = 0.289; Adjusted R^2 = 0.286\n",
      "(Step) Trying red_wine...\n",
      "(Step) - Features = alcohol, volatile acidity, sulphates, residual sugar, red_wine\n",
      "(Step) - Adjusted R^2: This = 0.287; Best = 0.286\n",
      "(Step) - New Best!   : Feature = red_wine; R^2 = 0.290; Adjusted R^2 = 0.287\n",
      "(Step) Trying citric acid...\n",
      "(Step) - Features = alcohol, volatile acidity, sulphates, residual sugar, citric acid\n",
      "(Step) - Adjusted R^2: This = 0.283; Best = 0.287\n",
      "(Step) Trying density...\n",
      "(Step) - Features = alcohol, volatile acidity, sulphates, residual sugar, density\n",
      "(Step) - Adjusted R^2: This = 0.283; Best = 0.287\n",
      "Added feature red_wine with R^2 = 0.290 and adjusted R^2 = 0.287\n",
      "\n",
      "(Step) Excluded = free sulfur dioxide, chlorides, pH, fixed acidity, total sulfur dioxide, citric acid, density\n",
      "(Step) Trying free sulfur dioxide...\n",
      "(Step) - Features = alcohol, volatile acidity, sulphates, residual sugar, red_wine, free sulfur dioxide\n",
      "(Step) - Adjusted R^2: This = 0.289; Best = 0.287\n",
      "(Step) - New Best!   : Feature = free sulfur dioxide; R^2 = 0.292; Adjusted R^2 = 0.289\n",
      "(Step) Trying chlorides...\n",
      "(Step) - Features = alcohol, volatile acidity, sulphates, residual sugar, red_wine, chlorides\n",
      "(Step) - Adjusted R^2: This = 0.287; Best = 0.289\n",
      "(Step) Trying pH...\n",
      "(Step) - Features = alcohol, volatile acidity, sulphates, residual sugar, red_wine, pH\n",
      "(Step) - Adjusted R^2: This = 0.287; Best = 0.289\n",
      "(Step) Trying fixed acidity...\n",
      "(Step) - Features = alcohol, volatile acidity, sulphates, residual sugar, red_wine, fixed acidity\n",
      "(Step) - Adjusted R^2: This = 0.287; Best = 0.289\n",
      "(Step) Trying total sulfur dioxide...\n",
      "(Step) - Features = alcohol, volatile acidity, sulphates, residual sugar, red_wine, total sulfur dioxide\n",
      "(Step) - Adjusted R^2: This = 0.287; Best = 0.289\n",
      "(Step) Trying citric acid...\n",
      "(Step) - Features = alcohol, volatile acidity, sulphates, residual sugar, red_wine, citric acid\n",
      "(Step) - Adjusted R^2: This = 0.287; Best = 0.289\n",
      "(Step) Trying density...\n",
      "(Step) - Features = alcohol, volatile acidity, sulphates, residual sugar, red_wine, density\n",
      "(Step) - Adjusted R^2: This = 0.291; Best = 0.289\n",
      "(Step) - New Best!   : Feature = density; R^2 = 0.294; Adjusted R^2 = 0.291\n",
      "Added feature density with R^2 = 0.294 and adjusted R^2 = 0.291\n",
      "\n",
      "(Step) Excluded = chlorides, pH, fixed acidity, total sulfur dioxide, citric acid, free sulfur dioxide\n",
      "(Step) Trying chlorides...\n",
      "(Step) - Features = alcohol, volatile acidity, sulphates, residual sugar, red_wine, density, chlorides\n",
      "(Step) - Adjusted R^2: This = 0.291; Best = 0.291\n",
      "(Step) Trying pH...\n",
      "(Step) - Features = alcohol, volatile acidity, sulphates, residual sugar, red_wine, density, pH\n",
      "(Step) - Adjusted R^2: This = 0.291; Best = 0.291\n",
      "(Step) - New Best!   : Feature = pH; R^2 = 0.295; Adjusted R^2 = 0.291\n",
      "(Step) Trying fixed acidity...\n",
      "(Step) - Features = alcohol, volatile acidity, sulphates, residual sugar, red_wine, density, fixed acidity\n",
      "(Step) - Adjusted R^2: This = 0.291; Best = 0.291\n",
      "(Step) - New Best!   : Feature = fixed acidity; R^2 = 0.295; Adjusted R^2 = 0.291\n",
      "(Step) Trying total sulfur dioxide...\n",
      "(Step) - Features = alcohol, volatile acidity, sulphates, residual sugar, red_wine, density, total sulfur dioxide\n",
      "(Step) - Adjusted R^2: This = 0.291; Best = 0.291\n",
      "(Step) Trying citric acid...\n",
      "(Step) - Features = alcohol, volatile acidity, sulphates, residual sugar, red_wine, density, citric acid\n",
      "(Step) - Adjusted R^2: This = 0.290; Best = 0.291\n",
      "(Step) Trying free sulfur dioxide...\n",
      "(Step) - Features = alcohol, volatile acidity, sulphates, residual sugar, red_wine, density, free sulfur dioxide\n",
      "(Step) - Adjusted R^2: This = 0.292; Best = 0.291\n",
      "(Step) - New Best!   : Feature = free sulfur dioxide; R^2 = 0.296; Adjusted R^2 = 0.292\n",
      "Added feature free sulfur dioxide with R^2 = 0.296 and adjusted R^2 = 0.292\n",
      "\n",
      "(Step) Excluded = chlorides, pH, fixed acidity, total sulfur dioxide, citric acid\n",
      "(Step) Trying chlorides...\n",
      "(Step) - Features = alcohol, volatile acidity, sulphates, residual sugar, red_wine, density, free sulfur dioxide, chlorides\n",
      "(Step) - Adjusted R^2: This = 0.292; Best = 0.292\n",
      "(Step) Trying pH...\n",
      "(Step) - Features = alcohol, volatile acidity, sulphates, residual sugar, red_wine, density, free sulfur dioxide, pH\n",
      "(Step) - Adjusted R^2: This = 0.292; Best = 0.292\n",
      "(Step) Trying fixed acidity...\n",
      "(Step) - Features = alcohol, volatile acidity, sulphates, residual sugar, red_wine, density, free sulfur dioxide, fixed acidity\n",
      "(Step) - Adjusted R^2: This = 0.293; Best = 0.292\n",
      "(Step) - New Best!   : Feature = fixed acidity; R^2 = 0.297; Adjusted R^2 = 0.293\n",
      "(Step) Trying total sulfur dioxide...\n",
      "(Step) - Features = alcohol, volatile acidity, sulphates, residual sugar, red_wine, density, free sulfur dioxide, total sulfur dioxide\n",
      "(Step) - Adjusted R^2: This = 0.295; Best = 0.293\n",
      "(Step) - New Best!   : Feature = total sulfur dioxide; R^2 = 0.299; Adjusted R^2 = 0.295\n",
      "(Step) Trying citric acid...\n",
      "(Step) - Features = alcohol, volatile acidity, sulphates, residual sugar, red_wine, density, free sulfur dioxide, citric acid\n",
      "(Step) - Adjusted R^2: This = 0.292; Best = 0.295\n",
      "Added feature total sulfur dioxide with R^2 = 0.299 and adjusted R^2 = 0.295\n",
      "\n",
      "(Step) Excluded = citric acid, fixed acidity, chlorides, pH\n",
      "(Step) Trying citric acid...\n",
      "(Step) - Features = alcohol, volatile acidity, sulphates, residual sugar, red_wine, density, free sulfur dioxide, total sulfur dioxide, citric acid\n",
      "(Step) - Adjusted R^2: This = 0.294; Best = 0.295\n",
      "(Step) Trying fixed acidity...\n",
      "(Step) - Features = alcohol, volatile acidity, sulphates, residual sugar, red_wine, density, free sulfur dioxide, total sulfur dioxide, fixed acidity\n",
      "(Step) - Adjusted R^2: This = 0.295; Best = 0.295\n",
      "(Step) - New Best!   : Feature = fixed acidity; R^2 = 0.300; Adjusted R^2 = 0.295\n",
      "(Step) Trying chlorides...\n",
      "(Step) - Features = alcohol, volatile acidity, sulphates, residual sugar, red_wine, density, free sulfur dioxide, total sulfur dioxide, chlorides\n",
      "(Step) - Adjusted R^2: This = 0.294; Best = 0.295\n",
      "(Step) Trying pH...\n",
      "(Step) - Features = alcohol, volatile acidity, sulphates, residual sugar, red_wine, density, free sulfur dioxide, total sulfur dioxide, pH\n",
      "(Step) - Adjusted R^2: This = 0.294; Best = 0.295\n",
      "Added feature fixed acidity with R^2 = 0.300 and adjusted R^2 = 0.295\n",
      "\n",
      "(Step) Excluded = citric acid, chlorides, pH\n",
      "(Step) Trying citric acid...\n",
      "(Step) - Features = alcohol, volatile acidity, sulphates, residual sugar, red_wine, density, free sulfur dioxide, total sulfur dioxide, fixed acidity, citric acid\n",
      "(Step) - Adjusted R^2: This = 0.294; Best = 0.295\n",
      "(Step) Trying chlorides...\n",
      "(Step) - Features = alcohol, volatile acidity, sulphates, residual sugar, red_wine, density, free sulfur dioxide, total sulfur dioxide, fixed acidity, chlorides\n",
      "(Step) - Adjusted R^2: This = 0.295; Best = 0.295\n",
      "(Step) Trying pH...\n",
      "(Step) - Features = alcohol, volatile acidity, sulphates, residual sugar, red_wine, density, free sulfur dioxide, total sulfur dioxide, fixed acidity, pH\n",
      "(Step) - Adjusted R^2: This = 0.298; Best = 0.295\n",
      "(Step) - New Best!   : Feature = pH; R^2 = 0.304; Adjusted R^2 = 0.298\n",
      "Added feature pH   with R^2 = 0.304 and adjusted R^2 = 0.298\n",
      "\n",
      "(Step) Excluded = citric acid, chlorides\n",
      "(Step) Trying citric acid...\n",
      "(Step) - Features = alcohol, volatile acidity, sulphates, residual sugar, red_wine, density, free sulfur dioxide, total sulfur dioxide, fixed acidity, pH, citric acid\n",
      "(Step) - Adjusted R^2: This = 0.298; Best = 0.298\n",
      "(Step) Trying chlorides...\n",
      "(Step) - Features = alcohol, volatile acidity, sulphates, residual sugar, red_wine, density, free sulfur dioxide, total sulfur dioxide, fixed acidity, pH, chlorides\n",
      "(Step) - Adjusted R^2: This = 0.298; Best = 0.298\n",
      "\n",
      "Resulting features:\n",
      "alcohol, volatile acidity, sulphates, residual sugar, red_wine, density, free sulfur dioxide, total sulfur dioxide, fixed acidity, pH\n"
     ]
    }
   ],
   "source": [
    "## Use Forward Feature Selection to pick a good model\n",
    "\n",
    "# start with no predictors\n",
    "included = []\n",
    "# keep track of model and parameters\n",
    "best = {'feature': '', 'r2': 0, 'a_r2': 0}\n",
    "# create a model object to hold the modelling parameters\n",
    "model = LinearRegression() # create a model for Linear Regression\n",
    "# get the number of cases in the test data\n",
    "n = X_test.shape[0]\n",
    "\n",
    "while True:\n",
    "    changed = False\n",
    "    \n",
    "    if show_steps:\n",
    "        print('') \n",
    "\n",
    "    # list the features to be evaluated\n",
    "    excluded = list(set(X.columns) - set(included))\n",
    "    \n",
    "    if show_steps:\n",
    "        print('(Step) Excluded = %s' % ', '.join(excluded))  \n",
    "\n",
    "    # for each remaining feature to be evaluated\n",
    "    for new_column in excluded:\n",
    "        \n",
    "        if show_steps:\n",
    "            print('(Step) Trying %s...' % new_column)\n",
    "            print('(Step) - Features = %s' % ', '.join(included + [new_column]))\n",
    "\n",
    "        # fit the model with the Training data\n",
    "        fit = model.fit(X_train[included + [new_column]], y_train) # fit a model; consider which predictors should be included\n",
    "        # calculate the score (R^2 for Regression)\n",
    "        r2 = fit.score(X_train[included + [new_column]],y_train) # calculate the score\n",
    "        # number of predictors in this model\n",
    "        k = len(included + [new_column])\n",
    "        # calculate the adjusted R^2\n",
    "        adjusted_r2 = 1 - (((1-r2) * (n-1))/ (n - k-1)) # calculate the Adjusted R^2\n",
    "\n",
    "        if show_steps:\n",
    "            print('(Step) - Adjusted R^2: This = %.3f; Best = %.3f' % \n",
    "                  (adjusted_r2, best['a_r2']))\n",
    "\n",
    "        # if model improves\n",
    "        if adjusted_r2 > best['a_r2']:\n",
    "            # record new parameters\n",
    "            best = {'feature': new_column, 'r2': r2, 'a_r2': adjusted_r2}\n",
    "            # flag that found a better model\n",
    "            changed = True\n",
    "            if show_steps:\n",
    "                print('(Step) - New Best!   : Feature = %s; R^2 = %.3f; Adjusted R^2 = %.3f' % \n",
    "                      (best['feature'], best['r2'], best['a_r2'])) #%s mean string. %.3f means 3 decimal point\n",
    "    # END for\n",
    "\n",
    "    # if found a better model after testing all remaining features\n",
    "    if changed:\n",
    "        # update control details\n",
    "        included.append(best['feature'])\n",
    "        excluded = list(set(excluded) - set(best['feature']))\n",
    "        print('Added feature %-4s with R^2 = %.3f and adjusted R^2 = %.3f' % (best['feature'], best['r2'], best['a_r2']))\n",
    "    else:\n",
    "        # terminate if no better model\n",
    "        break\n",
    "\n",
    "print('')\n",
    "print('Resulting features:')\n",
    "print(', '.join(included))"
   ]
  },
  {
   "cell_type": "code",
   "execution_count": 7,
   "metadata": {},
   "outputs": [],
   "source": [
    "#Bonus: Cross Validation\n",
    "\n",
    "from sklearn.model_selection import KFold\n"
   ]
  },
  {
   "cell_type": "code",
   "execution_count": 12,
   "metadata": {},
   "outputs": [
    {
     "name": "stdout",
     "output_type": "stream",
     "text": [
      "KFold(n_splits=2, random_state=None, shuffle=False)\n"
     ]
    }
   ],
   "source": [
    "kf = KFold(n_splits=2) # Define the split - into 2 folds \n",
    "kf.get_n_splits(X) # returns the number of splitting iterations in the cross-validator\n",
    "print(kf) \n"
   ]
  },
  {
   "cell_type": "code",
   "execution_count": 14,
   "metadata": {},
   "outputs": [
    {
     "name": "stdout",
     "output_type": "stream",
     "text": [
      "TRAIN: [3249 3250 3251 ... 6494 6495 6496] TEST: [   0    1    2 ... 3246 3247 3248]\n",
      "TRAIN: [   0    1    2 ... 3246 3247 3248] TEST: [3249 3250 3251 ... 6494 6495 6496]\n"
     ]
    }
   ],
   "source": [
    "for train_index, test_index in kf.split(X):\n",
    "    print(\"TRAIN:\", train_index,\"TEST:\", test_index)"
   ]
  },
  {
   "cell_type": "code",
   "execution_count": 15,
   "metadata": {},
   "outputs": [],
   "source": [
    "# Necessary imports: \n",
    "from sklearn.model_selection import cross_val_score, cross_val_predict\n",
    "from sklearn import metrics"
   ]
  },
  {
   "cell_type": "code",
   "execution_count": 18,
   "metadata": {},
   "outputs": [
    {
     "name": "stdout",
     "output_type": "stream",
     "text": [
      "Cross-validated scores: [0.23312269 0.23864105 0.23519511 0.24988053 0.29324536 0.18993661]\n"
     ]
    }
   ],
   "source": [
    "# Perform 6-fold cross validation\n",
    "scores = cross_val_score(model, X, y, cv=6)\n",
    "print (\"Cross-validated scores:\", scores)\n"
   ]
  },
  {
   "cell_type": "code",
   "execution_count": 19,
   "metadata": {},
   "outputs": [
    {
     "data": {
      "text/plain": [
       "<matplotlib.collections.PathCollection at 0x7fb0997f8a60>"
      ]
     },
     "execution_count": 19,
     "metadata": {},
     "output_type": "execute_result"
    },
    {
     "data": {
      "image/png": "[encoded data removed]",
      "text/plain": [
       "<Figure size 432x288 with 1 Axes>"
      ]
     },
     "metadata": {
      "needs_background": "light"
     },
     "output_type": "display_data"
    }
   ],
   "source": [
    "# Make cross validated predictions\n",
    "predictions = cross_val_predict(model, X, y, cv=6)\n",
    "plt.scatter(y, predictions)"
   ]
  },
  {
   "cell_type": "code",
   "execution_count": 20,
   "metadata": {},
   "outputs": [
    {
     "name": "stdout",
     "output_type": "stream",
     "text": [
      "Cross-Predicted Accuracy: 0.2630597754916152\n"
     ]
    }
   ],
   "source": [
    "#R2 score of model\n",
    "accuracy = metrics.r2_score(y, predictions)\n",
    "print (\"Cross-Predicted Accuracy:\", accuracy)\n"
   ]
  },
  {
   "cell_type": "markdown",
   "metadata": {
    "colab_type": "text",
    "id": "3LCpYCPXl1XK"
   },
   "source": [
    "\n",
    "\n",
    "---\n",
    "\n",
    "\n",
    "\n",
    "---\n",
    "\n",
    "\n",
    "\n",
    "> > > > > > > > > © 2019 Institute of Data\n",
    "\n",
    "\n",
    "---\n",
    "\n",
    "\n",
    "\n",
    "---\n",
    "\n",
    "\n",
    "\n"
   ]
  }
 ],
 "metadata": {
  "colab": {
   "collapsed_sections": [],
   "name": "IOD_Lab 4.2.2.ipynb",
   "provenance": []
  },
  "kernelspec": {
   "display_name": "Python 3",
   "language": "python",
   "name": "python3"
  },
  "language_info": {
   "codemirror_mode": {
    "name": "ipython",
    "version": 3
   },
   "file_extension": ".py",
   "mimetype": "text/x-python",
   "name": "python",
   "nbconvert_exporter": "python",
   "pygments_lexer": "ipython3",
   "version": "3.8.3"
  }
 },
 "nbformat": 4,
 "nbformat_minor": 1
}
