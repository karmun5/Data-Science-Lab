{
  "nbformat": 4,
  "nbformat_minor": 0,
  "metadata": {
    "colab": {
      "name": "ML Tripadvisor 79.6k.ipynb",
      "provenance": [],
      "toc_visible": true
    },
    "kernelspec": {
      "name": "python3",
      "display_name": "Python 3"
    },
    "language_info": {
      "name": "python"
    }
  },
  "cells": [
    {
      "cell_type": "markdown",
      "metadata": {
        "id": "D7GUJMOAPy1H"
      },
      "source": [
        "# Import Libraries\n"
      ]
    },
    {
      "cell_type": "code",
      "metadata": {
        "id": "JfaQNHHJNfWS"
      },
      "source": [
        "## Import Libraries\n",
        "import pandas as pd\n",
        "\n",
        "import regex as re\n",
        "import spacy\n",
        "\n",
        "%matplotlib inline\n",
        "import matplotlib.pyplot as plt\n",
        "import matplotlib.gridspec as gridspec\n",
        "import seaborn as sns\n",
        "import numpy as np \n",
        "\n",
        "\n",
        "from sklearn.model_selection import train_test_split\n",
        "\n",
        "\n",
        "from sklearn.metrics import confusion_matrix\n",
        "from sklearn.metrics import accuracy_score\n",
        "from sklearn.metrics import precision_score\n",
        "from sklearn.metrics import recall_score\n",
        "from sklearn.metrics import average_precision_score\n",
        "from sklearn.metrics import roc_auc_score\n",
        "from sklearn.metrics import precision_recall_curve\n",
        "from sklearn.metrics import roc_curve\n",
        "from sklearn.metrics import auc\n",
        "\n",
        "from nltk.corpus import wordnet\n",
        "import string\n",
        "from nltk import pos_tag\n",
        "from nltk.corpus import stopwords\n",
        "from nltk.tokenize import WhitespaceTokenizer\n",
        "from nltk.stem import WordNetLemmatizer\n",
        "from nltk import FreqDist\n",
        "from wordcloud import WordCloud,STOPWORDS\n",
        "import spacy \n",
        "from collections import Counter\n",
        "from sklearn.feature_extraction.text import CountVectorizer\n",
        "from sklearn.feature_extraction.text import TfidfVectorizer\n",
        "from sklearn.decomposition import LatentDirichletAllocation\n",
        "from sklearn.ensemble import GradientBoostingClassifier\n",
        "from sklearn.ensemble import RandomForestClassifier\n",
        "from sklearn.ensemble import StackingClassifier\n",
        "from sklearn.model_selection import RepeatedStratifiedKFold\n",
        "from sklearn.model_selection import GridSearchCV\n",
        "from sklearn.linear_model import LogisticRegression\n",
        "from sklearn.model_selection import train_test_split\n",
        "from sklearn.naive_bayes import MultinomialNB\n",
        "from sklearn.svm import LinearSVC\n",
        "from sklearn.svm import SVC\n",
        "\n",
        "\n",
        "\n",
        "import warnings\n",
        "warnings.filterwarnings('ignore')\n",
        "\n"
      ],
      "execution_count": 1,
      "outputs": []
    },
    {
      "cell_type": "code",
      "metadata": {
        "id": "z9Euj7txOPqu"
      },
      "source": [
        "from pydrive.auth import GoogleAuth\n",
        "from pydrive.drive import GoogleDrive\n",
        "from google.colab import auth\n",
        "from oauth2client.client import GoogleCredentials\n",
        "# Authenticate and create the PyDrive client.\n",
        "auth.authenticate_user()\n",
        "gauth = GoogleAuth()\n",
        "gauth.credentials = GoogleCredentials.get_application_default()\n",
        "drive = GoogleDrive(gauth)"
      ],
      "execution_count": 2,
      "outputs": []
    },
    {
      "cell_type": "markdown",
      "metadata": {
        "id": "FGVv5HizP597"
      },
      "source": [
        "# Load Data"
      ]
    },
    {
      "cell_type": "code",
      "metadata": {
        "id": "T0Wt42XdOSIV"
      },
      "source": [
        "id = '1bSGHGu55SeHcwK7YYfohDNi1lMq0BDzI' # The shareable link\n",
        "downloaded = drive.CreateFile({'id':id}) \n",
        "downloaded.GetContentFile('Hotel_Reviews.csv')  \n",
        "raw_df = pd.read_csv('Hotel_Reviews.csv')"
      ],
      "execution_count": 3,
      "outputs": []
    },
    {
      "cell_type": "code",
      "metadata": {
        "colab": {
          "base_uri": "https://localhost:8080/"
        },
        "id": "PrarikoAPJ_Q",
        "outputId": "c58abc29-291e-4cc3-fd27-cfef8c948248"
      },
      "source": [
        "raw_df.info()"
      ],
      "execution_count": 4,
      "outputs": [
        {
          "output_type": "stream",
          "text": [
            "<class 'pandas.core.frame.DataFrame'>\n",
            "RangeIndex: 515738 entries, 0 to 515737\n",
            "Data columns (total 17 columns):\n",
            " #   Column                                      Non-Null Count   Dtype  \n",
            "---  ------                                      --------------   -----  \n",
            " 0   Hotel_Address                               515738 non-null  object \n",
            " 1   Additional_Number_of_Scoring                515738 non-null  int64  \n",
            " 2   Review_Date                                 515738 non-null  object \n",
            " 3   Average_Score                               515738 non-null  float64\n",
            " 4   Hotel_Name                                  515738 non-null  object \n",
            " 5   Reviewer_Nationality                        515738 non-null  object \n",
            " 6   Negative_Review                             515738 non-null  object \n",
            " 7   Review_Total_Negative_Word_Counts           515738 non-null  int64  \n",
            " 8   Total_Number_of_Reviews                     515738 non-null  int64  \n",
            " 9   Positive_Review                             515738 non-null  object \n",
            " 10  Review_Total_Positive_Word_Counts           515738 non-null  int64  \n",
            " 11  Total_Number_of_Reviews_Reviewer_Has_Given  515738 non-null  int64  \n",
            " 12  Reviewer_Score                              515738 non-null  float64\n",
            " 13  Tags                                        515738 non-null  object \n",
            " 14  days_since_review                           515738 non-null  object \n",
            " 15  lat                                         512470 non-null  float64\n",
            " 16  lng                                         512470 non-null  float64\n",
            "dtypes: float64(4), int64(5), object(8)\n",
            "memory usage: 66.9+ MB\n"
          ],
          "name": "stdout"
        }
      ]
    },
    {
      "cell_type": "code",
      "metadata": {
        "colab": {
          "base_uri": "https://localhost:8080/"
        },
        "id": "aQe9kqff5f9r",
        "outputId": "7eac1f13-14e0-4a43-e3bb-a5f19152a558"
      },
      "source": [
        "# Convert reviewer scores to 0, 1-> 0 for negative, 1 for positive\n",
        "\n",
        "#check column min and max\n",
        "raw_df['Reviewer_Score'].describe()"
      ],
      "execution_count": 5,
      "outputs": [
        {
          "output_type": "execute_result",
          "data": {
            "text/plain": [
              "count    515738.000000\n",
              "mean          8.395077\n",
              "std           1.637856\n",
              "min           2.500000\n",
              "25%           7.500000\n",
              "50%           8.800000\n",
              "75%           9.600000\n",
              "max          10.000000\n",
              "Name: Reviewer_Score, dtype: float64"
            ]
          },
          "metadata": {
            "tags": []
          },
          "execution_count": 5
        }
      ]
    },
    {
      "cell_type": "code",
      "metadata": {
        "id": "nSnyRQqT5kHF"
      },
      "source": [
        "raw_df['Reviewer_Score'] = raw_df['Reviewer_Score'].round()\n"
      ],
      "execution_count": 6,
      "outputs": []
    },
    {
      "cell_type": "code",
      "metadata": {
        "colab": {
          "base_uri": "https://localhost:8080/"
        },
        "id": "gSJ0XNWc5maQ",
        "outputId": "a97a91a2-4b00-46b0-85c3-44d4f91e1908"
      },
      "source": [
        "raw_df['Reviewer_Score'].value_counts()"
      ],
      "execution_count": 7,
      "outputs": [
        {
          "output_type": "execute_result",
          "data": {
            "text/plain": [
              "10.0    187744\n",
              "8.0     110155\n",
              "9.0     105722\n",
              "7.0      44088\n",
              "6.0      27800\n",
              "5.0      24188\n",
              "4.0       9436\n",
              "3.0       4406\n",
              "2.0       2199\n",
              "Name: Reviewer_Score, dtype: int64"
            ]
          },
          "metadata": {
            "tags": []
          },
          "execution_count": 7
        }
      ]
    },
    {
      "cell_type": "code",
      "metadata": {
        "id": "eMXMdp185ocr"
      },
      "source": [
        "neg = range(6)\n",
        "\n",
        "\n",
        "def sentiment(rating):\n",
        "    if rating in neg:\n",
        "        return 0\n",
        "    else:\n",
        "        return 1\n"
      ],
      "execution_count": 8,
      "outputs": []
    },
    {
      "cell_type": "code",
      "metadata": {
        "colab": {
          "base_uri": "https://localhost:8080/"
        },
        "id": "afDyxKTG5yt6",
        "outputId": "1c906413-0b51-4241-d0f8-bc77d1aaecc8"
      },
      "source": [
        "raw_df['sentiments'] = raw_df['Reviewer_Score'].apply(sentiment)\n",
        "raw_df['sentiments'].value_counts()\n",
        "#print(raw_df.loc[raw_df['score'] == 0])"
      ],
      "execution_count": 9,
      "outputs": [
        {
          "output_type": "execute_result",
          "data": {
            "text/plain": [
              "1    475509\n",
              "0     40229\n",
              "Name: sentiments, dtype: int64"
            ]
          },
          "metadata": {
            "tags": []
          },
          "execution_count": 9
        }
      ]
    },
    {
      "cell_type": "markdown",
      "metadata": {
        "id": "dUKlSMSR52ke"
      },
      "source": [
        "# Combining Positive and Negative reviews into 1 column"
      ]
    },
    {
      "cell_type": "code",
      "metadata": {
        "id": "SHPzds7m56z-"
      },
      "source": [
        "pos_reviews = (raw_df['Positive_Review']!='No Positive').sum()\n",
        "neg_reviews = (raw_df['Negative_Review']!='No Negative').sum()"
      ],
      "execution_count": 10,
      "outputs": []
    },
    {
      "cell_type": "code",
      "metadata": {
        "colab": {
          "base_uri": "https://localhost:8080/"
        },
        "id": "Rk5RH6A358B1",
        "outputId": "046d6d05-e424-42df-94af-2fe0d94bf4f8"
      },
      "source": [
        "#replacing \"no positive\" and \"no negative\" reviews from both columns\n",
        "(raw_df['Positive_Review']=='No Positive').sum()"
      ],
      "execution_count": 11,
      "outputs": [
        {
          "output_type": "execute_result",
          "data": {
            "text/plain": [
              "35946"
            ]
          },
          "metadata": {
            "tags": []
          },
          "execution_count": 11
        }
      ]
    },
    {
      "cell_type": "code",
      "metadata": {
        "colab": {
          "base_uri": "https://localhost:8080/"
        },
        "id": "URgkl6D359JN",
        "outputId": "fb5d48a7-70fa-4e81-868f-eb9ad535f65f"
      },
      "source": [
        "(raw_df['Negative_Review']=='No Negative').sum()"
      ],
      "execution_count": 12,
      "outputs": [
        {
          "output_type": "execute_result",
          "data": {
            "text/plain": [
              "127890"
            ]
          },
          "metadata": {
            "tags": []
          },
          "execution_count": 12
        }
      ]
    },
    {
      "cell_type": "code",
      "metadata": {
        "colab": {
          "base_uri": "https://localhost:8080/"
        },
        "id": "vlOnCou76Ax2",
        "outputId": "20a51f12-1326-4786-a97c-c25b0d35c567"
      },
      "source": [
        "(raw_df['Negative_Review']==' No negatives').sum()"
      ],
      "execution_count": 13,
      "outputs": [
        {
          "output_type": "execute_result",
          "data": {
            "text/plain": [
              "47"
            ]
          },
          "metadata": {
            "tags": []
          },
          "execution_count": 13
        }
      ]
    },
    {
      "cell_type": "code",
      "metadata": {
        "id": "0JHldo786CPo"
      },
      "source": [
        "# # overwriting column with No negative/ No positive with \"\"\n",
        "raw_df['Positive_Review']= raw_df['Positive_Review'].replace('No Positive', \"\")\n",
        "raw_df['Negative_Review']= raw_df['Negative_Review'].replace('No Negative', \"\")\n",
        "raw_df['Negative_Review']= raw_df['Negative_Review'].replace(' No negatives', \"\") "
      ],
      "execution_count": 14,
      "outputs": []
    },
    {
      "cell_type": "code",
      "metadata": {
        "colab": {
          "base_uri": "https://localhost:8080/"
        },
        "id": "RHYCR8Pg6Dkj",
        "outputId": "1216be27-957e-427b-fdc9-f015825e8689"
      },
      "source": [
        "# Concatenating the positve review and negative review\n",
        "raw_df['reviews'] = raw_df[['Positive_Review', 'Negative_Review']].apply(lambda x: ' '.join(x), axis = 1)\n",
        "\n",
        "print(raw_df.loc[1327, 'reviews'])"
      ],
      "execution_count": 15,
      "outputs": [
        {
          "output_type": "stream",
          "text": [
            " very confy bed Great bar with lovely staff   I just don t think a room without breakfast is worth 269 I suppose the problem is that if people will pay it you can charge it \n"
          ],
          "name": "stdout"
        }
      ]
    },
    {
      "cell_type": "markdown",
      "metadata": {
        "id": "suXShyZQ6HC6"
      },
      "source": [
        "# Work the text\n",
        "\n",
        "Remove StopWords, Punctuation, Lemmatize etc.\n",
        "\n",
        "* lower text\n",
        "* tokenize and remove punctuation\n",
        "* remove empty tokens\n",
        "* remove words that contain numbers\n",
        "* remove stop words\n",
        "* remove words with a letter\n",
        "* pos tag text\n",
        "* lematize text\n",
        "\n",
        "\n",
        "\n",
        "Clean text."
      ]
    },
    {
      "cell_type": "code",
      "metadata": {
        "id": "ecew3Mkq6FF7"
      },
      "source": [
        "# return the wordnet object value corresponding to the POS tag\n",
        "def get_wordnet_pos(pos_tag):\n",
        "    if pos_tag.startswith('J'):\n",
        "        return wordnet.ADJ\n",
        "    elif pos_tag.startswith('V'):\n",
        "        return wordnet.VERB\n",
        "    elif pos_tag.startswith('N'):\n",
        "        return wordnet.NOUN\n",
        "    elif pos_tag.startswith('R'):\n",
        "        return wordnet.ADV\n",
        "    else:\n",
        "        return wordnet.NOUN"
      ],
      "execution_count": 16,
      "outputs": []
    },
    {
      "cell_type": "code",
      "metadata": {
        "id": "DVrsLST55-u6"
      },
      "source": [
        "def clean_text(text):\n",
        "    # lower text\n",
        "    text = text.lower()\n",
        "    # tokenize text and remove puncutation\n",
        "    text = [word.strip(string.punctuation) for word in text.split(\" \")]\n",
        "    # remove empty tokens\n",
        "    text = [t for t in text if len(t) > 0]\n",
        "    # remove words that contain numbers\n",
        "    text = [word for word in text if not any(c.isdigit() for c in word)]\n",
        "    # remove stop words\n",
        "    stop = stopwords.words('english')\n",
        "    #customize extra stop_words\n",
        "    new_stopwords = [\"hotel\",\"room\",\"everything\",\"anything\",\"nothing\",\"thing\",\"need\",\n",
        "                        \"good\",\"great\",\"excellent\",\"perfect\",\"much\",\"even\",\"really\",\"stay\",\"could\",\"would\",\n",
        "                        \"well\",\"make\",\"also\",\"one\"]  \n",
        "    stop.extend(new_stopwords)\n",
        "    text = [x for x in text if x not in stop]\n",
        "    # remove words with more than two letter\n",
        "    text = [t for t in text if len(t) > 2]\n",
        "    # pos tag text\n",
        "    pos_tags = pos_tag(text)\n",
        "    # lemmatize text\n",
        "    text = [WordNetLemmatizer().lemmatize(t[0], get_wordnet_pos(t[1])) for t in pos_tags]\n",
        "    # join all\n",
        "    text = \" \".join(text)\n",
        "    return(text)\n",
        "\n"
      ],
      "execution_count": 17,
      "outputs": []
    },
    {
      "cell_type": "code",
      "metadata": {
        "colab": {
          "base_uri": "https://localhost:8080/"
        },
        "id": "B41oeEHm6uBg",
        "outputId": "6df6f1e3-874f-4449-9759-b133d6b9404d"
      },
      "source": [
        "import nltk\n",
        "nltk.download('stopwords')"
      ],
      "execution_count": 18,
      "outputs": [
        {
          "output_type": "stream",
          "text": [
            "[nltk_data] Downloading package stopwords to /root/nltk_data...\n",
            "[nltk_data]   Unzipping corpora/stopwords.zip.\n"
          ],
          "name": "stdout"
        },
        {
          "output_type": "execute_result",
          "data": {
            "text/plain": [
              "True"
            ]
          },
          "metadata": {
            "tags": []
          },
          "execution_count": 18
        }
      ]
    },
    {
      "cell_type": "code",
      "metadata": {
        "colab": {
          "base_uri": "https://localhost:8080/"
        },
        "id": "2v8IgnQX61Jq",
        "outputId": "49dc6b63-3ff5-4aa7-f2ad-852ab494de13"
      },
      "source": [
        "\n",
        "nltk.download('averaged_perceptron_tagger')\n"
      ],
      "execution_count": 19,
      "outputs": [
        {
          "output_type": "stream",
          "text": [
            "[nltk_data] Downloading package averaged_perceptron_tagger to\n",
            "[nltk_data]     /root/nltk_data...\n",
            "[nltk_data]   Unzipping taggers/averaged_perceptron_tagger.zip.\n"
          ],
          "name": "stdout"
        },
        {
          "output_type": "execute_result",
          "data": {
            "text/plain": [
              "True"
            ]
          },
          "metadata": {
            "tags": []
          },
          "execution_count": 19
        }
      ]
    },
    {
      "cell_type": "code",
      "metadata": {
        "colab": {
          "base_uri": "https://localhost:8080/"
        },
        "id": "EevzcIBS68o9",
        "outputId": "80d347b4-a7a0-4d84-e953-a28073db399c"
      },
      "source": [
        "nltk.download('wordnet')"
      ],
      "execution_count": 20,
      "outputs": [
        {
          "output_type": "stream",
          "text": [
            "[nltk_data] Downloading package wordnet to /root/nltk_data...\n",
            "[nltk_data]   Unzipping corpora/wordnet.zip.\n"
          ],
          "name": "stdout"
        },
        {
          "output_type": "execute_result",
          "data": {
            "text/plain": [
              "True"
            ]
          },
          "metadata": {
            "tags": []
          },
          "execution_count": 20
        }
      ]
    },
    {
      "cell_type": "code",
      "metadata": {
        "colab": {
          "base_uri": "https://localhost:8080/"
        },
        "id": "1uqaz6MF6cuu",
        "outputId": "268092ac-95f5-431a-8e76-2fd3bbb5a2d9"
      },
      "source": [
        "%%time\n",
        "# clean text data\n",
        "raw_df['c_review'] = raw_df['reviews'].apply(clean_text)"
      ],
      "execution_count": 22,
      "outputs": [
        {
          "output_type": "stream",
          "text": [
            "CPU times: user 13min 38s, sys: 17 s, total: 13min 55s\n",
            "Wall time: 13min 57s\n"
          ],
          "name": "stdout"
        }
      ]
    },
    {
      "cell_type": "code",
      "metadata": {
        "colab": {
          "base_uri": "https://localhost:8080/",
          "height": 335
        },
        "id": "g4hXOhcOBJk1",
        "outputId": "81eee001-2e77-4c7c-814f-7621a339473c"
      },
      "source": [
        "# Split of score reviews\n",
        "fig = plt.figure()\n",
        "ax = fig.add_axes([0,0,1,1])\n",
        "values = [pos_reviews, neg_reviews]\n",
        "\n",
        "ax.pie(values, \n",
        "       labels = ['Number of Positive Reviews', 'Number of Negative Reviews'],\n",
        "       colors=['lightblue', 'lightcoral'],\n",
        "       shadow=True,\n",
        "       startangle=90, \n",
        "       autopct='%1.2f%%')\n",
        "ax.axis('equal')\n",
        "plt.title('Positive Reviews Vs. Negative Reviews');"
      ],
      "execution_count": 23,
      "outputs": [
        {
          "output_type": "display_data",
          "data": {
            "image/png": "[encoded data removed]",
            "text/plain": [
              "<Figure size 432x288 with 1 Axes>"
            ]
          },
          "metadata": {
            "tags": []
          }
        }
      ]
    },
    {
      "cell_type": "code",
      "metadata": {
        "colab": {
          "base_uri": "https://localhost:8080/",
          "height": 295
        },
        "id": "ixL1v1QIBNxV",
        "outputId": "f3104595-5e57-494d-cff9-5a696f6b44f1"
      },
      "source": [
        "raw_df['Reviewer_Score'].plot.hist()\n",
        "plt.title('Distribution of reviewer score')\n",
        "plt.xlabel('Reviewer Score')\n",
        "plt.ylabel('Count')\n",
        "plt.show()"
      ],
      "execution_count": 24,
      "outputs": [
        {
          "output_type": "display_data",
          "data": {
            "image/png": "[encoded data removed]",
            "text/plain": [
              "<Figure size 432x288 with 1 Axes>"
            ]
          },
          "metadata": {
            "tags": [],
            "needs_background": "light"
          }
        }
      ]
    },
    {
      "cell_type": "code",
      "metadata": {
        "colab": {
          "base_uri": "https://localhost:8080/",
          "height": 335
        },
        "id": "utLE-J8-BQKw",
        "outputId": "3e4d1c6f-9eb6-40f2-d39d-8c76edf8b352"
      },
      "source": [
        "fig = plt.figure()\n",
        "ax = fig.add_axes([0,0,1,1])\n",
        "values = raw_df['sentiments'].value_counts()\n",
        "\n",
        "ax.pie(values, \n",
        "       labels = ['Positive', ' Negative'],\n",
        "       colors=['lightblue','red'],\n",
        "       shadow=True, \n",
        "       autopct='%1.2f%%',\n",
        "       textprops={'fontsize': 14})\n",
        "plt.title('Distribution of Sentiments');\n"
      ],
      "execution_count": 25,
      "outputs": [
        {
          "output_type": "display_data",
          "data": {
            "image/png": "[encoded data removed]",
            "text/plain": [
              "<Figure size 432x288 with 1 Axes>"
            ]
          },
          "metadata": {
            "tags": []
          }
        }
      ]
    },
    {
      "cell_type": "markdown",
      "metadata": {
        "id": "lILUEzAN7J0o"
      },
      "source": [
        "# Word Freq"
      ]
    },
    {
      "cell_type": "code",
      "metadata": {
        "id": "OswLgTuH6eeX"
      },
      "source": [
        "# function to plot most frequent terms\n",
        "def frequent_words(x, terms = 10):\n",
        "    all_words = ' '.join([text for text in x])\n",
        "    all_words = all_words.split()\n",
        "\n",
        "    fdist = FreqDist(all_words)\n",
        "    words_df = pd.DataFrame({'word':list(fdist.keys()), 'count':list(fdist.values())})\n",
        "\n",
        "    # selecting top 20 most frequent words\n",
        "    d = words_df.nlargest(columns=\"count\", n = terms) \n",
        "    plt.figure(figsize=(20,5))\n",
        "    ax = sns.barplot(data=d, x= \"word\", y = \"count\")\n",
        "    ax.set(ylabel = 'Count')\n",
        "    plt.xticks(fontsize=15)\n",
        "    plt.show()"
      ],
      "execution_count": 35,
      "outputs": []
    },
    {
      "cell_type": "markdown",
      "metadata": {
        "id": "9SL8jSCB7RnW"
      },
      "source": [
        "## Positive"
      ]
    },
    {
      "cell_type": "code",
      "metadata": {
        "id": "4xvvHtyy7HlV"
      },
      "source": [
        "raw_df['Positive_Review'] = raw_df['Positive_Review'].apply(clean_text)"
      ],
      "execution_count": 27,
      "outputs": []
    },
    {
      "cell_type": "code",
      "metadata": {
        "colab": {
          "base_uri": "https://localhost:8080/",
          "height": 339
        },
        "id": "oxhhllEp7VX9",
        "outputId": "1bf05492-500c-4800-cf6c-5eaa0edaaa6c"
      },
      "source": [
        "frequent_words(raw_df['Positive_Review'])"
      ],
      "execution_count": 36,
      "outputs": [
        {
          "output_type": "display_data",
          "data": {
            "image/png": "[encoded data removed]",
            "text/plain": [
              "<Figure size 1440x360 with 1 Axes>"
            ]
          },
          "metadata": {
            "tags": [],
            "needs_background": "light"
          }
        }
      ]
    },
    {
      "cell_type": "markdown",
      "metadata": {
        "id": "dYN5aq9D7WTX"
      },
      "source": [
        "## Negative"
      ]
    },
    {
      "cell_type": "code",
      "metadata": {
        "id": "lspK_MAo7GIi"
      },
      "source": [
        "raw_df['Negative_Review'] = raw_df['Negative_Review'].apply(clean_text)"
      ],
      "execution_count": 29,
      "outputs": []
    },
    {
      "cell_type": "code",
      "metadata": {
        "colab": {
          "base_uri": "https://localhost:8080/",
          "height": 339
        },
        "id": "DDAFXhGI7fjw",
        "outputId": "6ccf03c1-f12d-408b-aec4-20a205d9a221"
      },
      "source": [
        "frequent_words(raw_df['Negative_Review'])"
      ],
      "execution_count": 37,
      "outputs": [
        {
          "output_type": "display_data",
          "data": {
            "image/png": "[encoded data removed]",
            "text/plain": [
              "<Figure size 1440x360 with 1 Axes>"
            ]
          },
          "metadata": {
            "tags": [],
            "needs_background": "light"
          }
        }
      ]
    }
  ]
}